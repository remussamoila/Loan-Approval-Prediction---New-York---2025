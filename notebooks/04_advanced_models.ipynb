{
 "cells": [
  {
   "cell_type": "markdown",
   "id": "f4229632",
   "metadata": {},
   "source": [
    "# ⚙️ Advanced Modeling - Loan Approval"
   ]
  },
  {
   "cell_type": "code",
   "execution_count": null,
   "id": "300c0aea",
   "metadata": {},
   "outputs": [],
   "source": [
    "# 👤 Author: Remus\n",
    "import xgboost as xgb\n",
    "import lightgbm as lgb\n",
    "from sklearn.metrics import f1_score\n",
    "from sklearn.model_selection import StratifiedKFold\n",
    "import numpy as np"
   ]
  },
  {
   "cell_type": "code",
   "execution_count": null,
   "id": "53eed099",
   "metadata": {},
   "outputs": [],
   "source": [
    "X = train.drop(columns=['id', 'Accept'])\n",
    "y = train['Accept']\n",
    "X_test = test.drop(columns=['id'])"
   ]
  },
  {
   "cell_type": "markdown",
   "id": "57b03bdd",
   "metadata": {},
   "source": [
    "## 🔁 Cross-Validation with XGBoost"
   ]
  },
  {
   "cell_type": "code",
   "execution_count": null,
   "id": "cc2adb2b",
   "metadata": {},
   "outputs": [],
   "source": [
    "skf = StratifiedKFold(n_splits=5, shuffle=True, random_state=42)\n",
    "f1_scores = []\n",
    "for train_idx, val_idx in skf.split(X, y):\n",
    "    X_tr, X_val = X.iloc[train_idx], X.iloc[val_idx]\n",
    "    y_tr, y_val = y.iloc[train_idx], y.iloc[val_idx]\n",
    "    model = xgb.XGBClassifier(use_label_encoder=False, eval_metric='logloss')\n",
    "    model.fit(X_tr, y_tr)\n",
    "    preds = model.predict(X_val)\n",
    "    f1_scores.append(f1_score(y_val, preds))\n",
    "\n",
    "print('XGBoost Mean F1:', np.mean(f1_scores))"
   ]
  },
  {
   "cell_type": "markdown",
   "id": "cc13351c",
   "metadata": {},
   "source": [
    "## 🌟 Optional: Repeat with LightGBM"
   ]
  }
 ],
 "metadata": {},
 "nbformat": 4,
 "nbformat_minor": 5
}
