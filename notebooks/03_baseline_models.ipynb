{
 "cells": [
  {
   "cell_type": "markdown",
   "id": "bae41682",
   "metadata": {},
   "source": [
    "# 🤖 Baseline Modeling - Loan Approval"
   ]
  },
  {
   "cell_type": "code",
   "execution_count": null,
   "id": "469e7edc",
   "metadata": {},
   "outputs": [],
   "source": [
    "# 👤 Author: Alex\n",
    "from sklearn.linear_model import LogisticRegression\n",
    "from sklearn.tree import DecisionTreeClassifier\n",
    "from sklearn.model_selection import StratifiedKFold\n",
    "from sklearn.metrics import f1_score\n",
    "import numpy as np"
   ]
  },
  {
   "cell_type": "code",
   "execution_count": null,
   "id": "b0cea272",
   "metadata": {},
   "outputs": [],
   "source": [
    "X = train.drop(columns=['id', 'Accept'])\n",
    "y = train['Accept']\n",
    "X_test = test.drop(columns=['id'])"
   ]
  },
  {
   "cell_type": "markdown",
   "id": "a3a2ca7e",
   "metadata": {},
   "source": [
    "## 🔁 Cross-Validation"
   ]
  },
  {
   "cell_type": "code",
   "execution_count": null,
   "id": "6a12d4fd",
   "metadata": {},
   "outputs": [],
   "source": [
    "skf = StratifiedKFold(n_splits=5, shuffle=True, random_state=42)\n",
    "f1_scores = []\n",
    "for train_idx, val_idx in skf.split(X, y):\n",
    "    X_tr, X_val = X.iloc[train_idx], X.iloc[val_idx]\n",
    "    y_tr, y_val = y.iloc[train_idx], y.iloc[val_idx]\n",
    "    model = LogisticRegression(max_iter=500)\n",
    "    model.fit(X_tr, y_tr)\n",
    "    preds = model.predict(X_val)\n",
    "    f1_scores.append(f1_score(y_val, preds))\n",
    "\n",
    "print('Mean F1:', np.mean(f1_scores))"
   ]
  },
  {
   "cell_type": "markdown",
   "id": "7cd7986d",
   "metadata": {},
   "source": [
    "_Repeat with DecisionTreeClassifier as needed_"
   ]
  }
 ],
 "metadata": {},
 "nbformat": 4,
 "nbformat_minor": 5
}
