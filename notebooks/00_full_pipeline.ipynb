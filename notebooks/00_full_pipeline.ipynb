{
 "cells": [
  {
   "cell_type": "code",
   "execution_count": null,
   "id": "7eefa800",
   "metadata": {},
   "outputs": [],
   "source": [
    "# 00_full_pipeline.ipynb\n",
    "\n",
    "# Sequential execution of all team notebooks"
   ]
  },
  {
   "cell_type": "code",
   "execution_count": null,
   "id": "6679e17a",
   "metadata": {},
   "outputs": [],
   "source": [
    "# ✅ Step 1: EDA\n",
    "%run ./01_eda.ipynb"
   ]
  },
  {
   "cell_type": "code",
   "execution_count": null,
   "id": "0a80f525",
   "metadata": {},
   "outputs": [],
   "source": [
    "# ✅ Step 2: Preprocessing\n",
    "%run ./02_preprocessing.ipynb"
   ]
  },
  {
   "cell_type": "code",
   "execution_count": null,
   "id": "cf57fe0b",
   "metadata": {},
   "outputs": [],
   "source": [
    "# ✅ Step 3: Baseline Models\n",
    "%run ./03_baseline_models.ipynb"
   ]
  },
  {
   "cell_type": "code",
   "execution_count": null,
   "id": "c8ab97eb",
   "metadata": {},
   "outputs": [],
   "source": [
    "# ✅ Step 4: Advanced Models (XGBoost + LightGBM)\n",
    "%run ./04_advanced_models.ipynb"
   ]
  },
  {
   "cell_type": "code",
   "execution_count": null,
   "id": "0f77fc6c",
   "metadata": {},
   "outputs": [],
   "source": [
    "# ✅ Step 5: Ensembling\n",
    "%run ./05_ensemble_final.ipynb"
   ]
  },
  {
   "cell_type": "code",
   "execution_count": null,
   "id": "edd4f578",
   "metadata": {},
   "outputs": [],
   "source": [
    "# ✅ Step 6: Submission\n",
    "%run ./06_submission.ipynb"
   ]
  },
  {
   "cell_type": "code",
   "execution_count": null,
   "id": "439ed936",
   "metadata": {},
   "outputs": [],
   "source": [
    "# (Optional)\n",
    "# %run ./07_model_viewer.ipynb"
   ]
  },
  {
   "cell_type": "code",
   "execution_count": null,
   "id": "a836a25b",
   "metadata": {},
   "outputs": [],
   "source": [
    "print(\"\\n✅ Full pipeline executed successfully.\")"
   ]
  }
 ],
 "metadata": {
  "kernelspec": {
   "display_name": "Python 3",
   "language": "python",
   "name": "python3"
  }
 },
 "nbformat": 4,
 "nbformat_minor": 5
}
