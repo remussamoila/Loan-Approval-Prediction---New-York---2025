{
  "cells": [
    {
      "cell_type": "code",
      "source": [
        "# Clone the repo (safe to re-run if it already exists)\n",
        "import os\n",
        "\n",
        "if not os.path.exists(\"Loan-Approval-Prediction---New-York---2025\"):\n",
        "    !git clone https://github.com/remussamoila/Loan-Approval-Prediction---New-York---2025.git\n",
        "\n",
        "%cd Loan-Approval-Prediction---New-York---2025"
      ],
      "metadata": {
        "id": "cBrFLRfL06us",
        "outputId": "efc0f95e-6092-43bd-a6c1-31149153359c",
        "colab": {
          "base_uri": "https://localhost:8080/"
        }
      },
      "id": "cBrFLRfL06us",
      "execution_count": 1,
      "outputs": [
        {
          "output_type": "stream",
          "name": "stdout",
          "text": [
            "Cloning into 'Loan-Approval-Prediction---New-York---2025'...\n",
            "remote: Enumerating objects: 177, done.\u001b[K\n",
            "remote: Counting objects: 100% (17/17), done.\u001b[K\n",
            "remote: Compressing objects: 100% (14/14), done.\u001b[K\n",
            "remote: Total 177 (delta 6), reused 3 (delta 3), pack-reused 160 (from 1)\u001b[K\n",
            "Receiving objects: 100% (177/177), 2.68 MiB | 6.59 MiB/s, done.\n",
            "Resolving deltas: 100% (70/70), done.\n",
            "/content/Loan-Approval-Prediction---New-York---2025\n"
          ]
        }
      ]
    },
    {
      "cell_type": "markdown",
      "id": "567085d7",
      "metadata": {
        "id": "567085d7"
      },
      "source": [
        "# 🔍 Joblib Model Viewer\n",
        "\n",
        "This notebook loads a `.joblib` model and displays basic information, such as hyperparameters and feature importance (if available)."
      ]
    },
    {
      "cell_type": "code",
      "execution_count": 2,
      "id": "29af33e8",
      "metadata": {
        "id": "29af33e8"
      },
      "outputs": [],
      "source": [
        "# ✅ Step 1: Load required libraries\n",
        "import joblib\n",
        "import matplotlib.pyplot as plt\n",
        "import numpy as np"
      ]
    },
    {
      "cell_type": "code",
      "execution_count": 3,
      "id": "5b1ef9f2",
      "metadata": {
        "id": "5b1ef9f2",
        "outputId": "699e757f-3d9a-4af1-94e1-66b0b2b1b103",
        "colab": {
          "base_uri": "https://localhost:8080/",
          "height": 297
        }
      },
      "outputs": [
        {
          "output_type": "error",
          "ename": "FileNotFoundError",
          "evalue": "[Errno 2] No such file or directory: 'models/best_model.joblib'",
          "traceback": [
            "\u001b[0;31m---------------------------------------------------------------------------\u001b[0m",
            "\u001b[0;31mFileNotFoundError\u001b[0m                         Traceback (most recent call last)",
            "\u001b[0;32m<ipython-input-3-4d168c0dccff>\u001b[0m in \u001b[0;36m<cell line: 0>\u001b[0;34m()\u001b[0m\n\u001b[1;32m      1\u001b[0m \u001b[0;31m# ✅ Step 2: Load the model file\u001b[0m\u001b[0;34m\u001b[0m\u001b[0;34m\u001b[0m\u001b[0m\n\u001b[0;32m----> 2\u001b[0;31m \u001b[0mmodel\u001b[0m \u001b[0;34m=\u001b[0m \u001b[0mjoblib\u001b[0m\u001b[0;34m.\u001b[0m\u001b[0mload\u001b[0m\u001b[0;34m(\u001b[0m\u001b[0;34m'models/best_model.joblib'\u001b[0m\u001b[0;34m)\u001b[0m\u001b[0;34m\u001b[0m\u001b[0;34m\u001b[0m\u001b[0m\n\u001b[0m\u001b[1;32m      3\u001b[0m \u001b[0mprint\u001b[0m\u001b[0;34m(\u001b[0m\u001b[0;34m'✅ Model loaded:'\u001b[0m\u001b[0;34m,\u001b[0m \u001b[0mtype\u001b[0m\u001b[0;34m(\u001b[0m\u001b[0mmodel\u001b[0m\u001b[0;34m)\u001b[0m\u001b[0;34m)\u001b[0m\u001b[0;34m\u001b[0m\u001b[0;34m\u001b[0m\u001b[0m\n",
            "\u001b[0;32m/usr/local/lib/python3.11/dist-packages/joblib/numpy_pickle.py\u001b[0m in \u001b[0;36mload\u001b[0;34m(filename, mmap_mode, ensure_native_byte_order)\u001b[0m\n\u001b[1;32m    733\u001b[0m             \u001b[0mobj\u001b[0m \u001b[0;34m=\u001b[0m \u001b[0m_unpickle\u001b[0m\u001b[0;34m(\u001b[0m\u001b[0mfobj\u001b[0m\u001b[0;34m,\u001b[0m \u001b[0mensure_native_byte_order\u001b[0m\u001b[0;34m=\u001b[0m\u001b[0mensure_native_byte_order\u001b[0m\u001b[0;34m)\u001b[0m\u001b[0;34m\u001b[0m\u001b[0;34m\u001b[0m\u001b[0m\n\u001b[1;32m    734\u001b[0m     \u001b[0;32melse\u001b[0m\u001b[0;34m:\u001b[0m\u001b[0;34m\u001b[0m\u001b[0;34m\u001b[0m\u001b[0m\n\u001b[0;32m--> 735\u001b[0;31m         \u001b[0;32mwith\u001b[0m \u001b[0mopen\u001b[0m\u001b[0;34m(\u001b[0m\u001b[0mfilename\u001b[0m\u001b[0;34m,\u001b[0m \u001b[0;34m\"rb\"\u001b[0m\u001b[0;34m)\u001b[0m \u001b[0;32mas\u001b[0m \u001b[0mf\u001b[0m\u001b[0;34m:\u001b[0m\u001b[0;34m\u001b[0m\u001b[0;34m\u001b[0m\u001b[0m\n\u001b[0m\u001b[1;32m    736\u001b[0m             with _validate_fileobject_and_memmap(f, filename, mmap_mode) as (\n\u001b[1;32m    737\u001b[0m                 \u001b[0mfobj\u001b[0m\u001b[0;34m,\u001b[0m\u001b[0;34m\u001b[0m\u001b[0;34m\u001b[0m\u001b[0m\n",
            "\u001b[0;31mFileNotFoundError\u001b[0m: [Errno 2] No such file or directory: 'models/best_model.joblib'"
          ]
        }
      ],
      "source": [
        "# ✅ Step 2: Load the model file\n",
        "model = joblib.load('models/best_model.joblib')\n",
        "print('✅ Model loaded:', type(model))"
      ]
    },
    {
      "cell_type": "code",
      "execution_count": null,
      "id": "27300ffe",
      "metadata": {
        "id": "27300ffe"
      },
      "outputs": [],
      "source": [
        "# ✅ Step 3: View model parameters\n",
        "try:\n",
        "    print(model.get_params())\n",
        "except Exception as e:\n",
        "    print('⚠️ get_params() not available:', e)"
      ]
    },
    {
      "cell_type": "code",
      "execution_count": null,
      "id": "0842ec69",
      "metadata": {
        "id": "0842ec69"
      },
      "outputs": [],
      "source": [
        "# ✅ Step 4: View feature importances (if available)\n",
        "try:\n",
        "    importances = model.feature_importances_\n",
        "    plt.figure(figsize=(10,4))\n",
        "    plt.bar(range(len(importances)), importances)\n",
        "    plt.title('🔎 Feature Importances')\n",
        "    plt.xlabel('Feature Index')\n",
        "    plt.ylabel('Importance')\n",
        "    plt.show()\n",
        "except AttributeError:\n",
        "    print('⚠️ Model does not provide feature importances.')"
      ]
    }
  ],
  "metadata": {
    "colab": {
      "provenance": []
    },
    "language_info": {
      "name": "python"
    },
    "kernelspec": {
      "name": "python3",
      "display_name": "Python 3"
    }
  },
  "nbformat": 4,
  "nbformat_minor": 5
}