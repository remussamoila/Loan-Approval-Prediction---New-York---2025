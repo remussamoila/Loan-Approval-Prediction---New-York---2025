{
 "cells": [
  {
   "cell_type": "markdown",
   "id": "a9e943ff",
   "metadata": {},
   "source": [
    "# 🔀 Ensembling - Loan Approval"
   ]
  },
  {
   "cell_type": "code",
   "execution_count": null,
   "id": "fd68a14b",
   "metadata": {},
   "outputs": [],
   "source": [
    "# 👤 Author: Ana\n",
    "from sklearn.ensemble import VotingClassifier\n",
    "from sklearn.linear_model import LogisticRegression\n",
    "from sklearn.ensemble import RandomForestClassifier\n",
    "from sklearn.model_selection import cross_val_score"
   ]
  },
  {
   "cell_type": "code",
   "execution_count": null,
   "id": "b9a352f6",
   "metadata": {},
   "outputs": [],
   "source": [
    "X = train.drop(columns=['id', 'Accept'])\n",
    "y = train['Accept']"
   ]
  },
  {
   "cell_type": "markdown",
   "id": "0bf75313",
   "metadata": {},
   "source": [
    "## 🗳️ Voting Classifier"
   ]
  },
  {
   "cell_type": "code",
   "execution_count": null,
   "id": "d92e29a2",
   "metadata": {},
   "outputs": [],
   "source": [
    "model1 = LogisticRegression(max_iter=500)\n",
    "model2 = RandomForestClassifier()\n",
    "ensemble = VotingClassifier(estimators=[\n",
    "    ('lr', model1),\n",
    "    ('rf', model2)], voting='hard')\n",
    "\n",
    "scores = cross_val_score(ensemble, X, y, cv=5, scoring='f1')\n",
    "print('VotingClassifier Mean F1:', scores.mean())"
   ]
  },
  {
   "cell_type": "markdown",
   "id": "e3f5aabd",
   "metadata": {},
   "source": [
    "_You can expand with soft voting or stacking_"
   ]
  }
 ],
 "metadata": {},
 "nbformat": 4,
 "nbformat_minor": 5
}
