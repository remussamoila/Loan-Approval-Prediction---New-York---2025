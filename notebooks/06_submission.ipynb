{
  "cells": [
    {
      "cell_type": "markdown",
      "id": "bef6eff0",
      "metadata": {
        "id": "bef6eff0"
      },
      "source": [
        "# 📤 Submission File - Loan Approval"
      ]
    },
    {
      "cell_type": "code",
      "execution_count": 26,
      "id": "1360f9e4",
      "metadata": {
        "id": "1360f9e4"
      },
      "outputs": [],
      "source": [
        "# 👤 Author: Aye\n",
        "# Predict and export final submission file"
      ]
    },
    {
      "cell_type": "code",
      "execution_count": 27,
      "id": "1fd4ce4a",
      "metadata": {
        "colab": {
          "base_uri": "https://localhost:8080/"
        },
        "id": "1fd4ce4a",
        "outputId": "2e86350f-153b-48b8-c212-12a8d5b6a222"
      },
      "outputs": [
        {
          "output_type": "stream",
          "name": "stdout",
          "text": [
            "Cloning into 'Loan-Approval-Prediction---New-York---2025'...\n",
            "remote: Enumerating objects: 212, done.\u001b[K\n",
            "remote: Counting objects: 100% (52/52), done.\u001b[K\n",
            "remote: Compressing objects: 100% (48/48), done.\u001b[K\n",
            "remote: Total 212 (delta 23), reused 3 (delta 3), pack-reused 160 (from 1)\u001b[K\n",
            "Receiving objects: 100% (212/212), 2.83 MiB | 12.06 MiB/s, done.\n",
            "Resolving deltas: 100% (87/87), done.\n",
            "/content/Loan-Approval-Prediction---New-York---2025/Loan-Approval-Prediction---New-York---2025/Loan-Approval-Prediction---New-York---2025/Loan-Approval-Prediction---New-York---2025\n"
          ]
        }
      ],
      "source": [
        "# 👤 Author: Shared team setup\n",
        "# 📦 Clone the GitHub repository\n",
        "\n",
        "!git clone https://github.com/remussamoila/Loan-Approval-Prediction---New-York---2025.git\n",
        "%cd Loan-Approval-Prediction---New-York---2025\n"
      ]
    },
    {
      "cell_type": "code",
      "source": [
        "# ✅ List folders to confirm structure\n",
        "import os\n",
        "os.listdir()\n"
      ],
      "metadata": {
        "colab": {
          "base_uri": "https://localhost:8080/"
        },
        "id": "RTqxBsQFMpo8",
        "outputId": "5129cab4-e4bf-4088-82a4-c8477618d5d6"
      },
      "id": "RTqxBsQFMpo8",
      "execution_count": 28,
      "outputs": [
        {
          "output_type": "execute_result",
          "data": {
            "text/plain": [
              "['README.md', 'models', '.git', 'docs', 'notebooks', 'data']"
            ]
          },
          "metadata": {},
          "execution_count": 28
        }
      ]
    },
    {
      "cell_type": "code",
      "source": [
        "# prompt: Create my-model.csv with id and predicted Accept\n",
        "#  Match sample_submission.csv format\n",
        "\n",
        "import numpy as np\n",
        "import pandas as pd\n",
        "\n",
        "# Generate dummy predictions (replace with your actual model predictions)\n",
        "# For demonstration, let's create a simple prediction based on 'DisbursementAmount'\n",
        "# You should replace this with your model's prediction logic\n",
        "# This is just a placeholder to generate a file in the correct format\n",
        "\n",
        "# Print columns of the test DataFrame to check for 'DisbursementAmount'\n",
        "print(\"Columns in the test DataFrame:\", test.columns.tolist())\n",
        "\n",
        "# Simple example: Predict 'Accept' (1) if DisbursementAmount > 100000 else 'Reject' (0)\n",
        "# You MUST replace this with your model's predictions on the 'test' dataframe\n",
        "# test['predicted Accept'] = np.where(test['DisbursementAmount'] > 100000, 1, 0)\n",
        "\n",
        "# Since 'DisbursementAmount' is not in the test set (based on the error), let's use a placeholder prediction\n",
        "# In a real scenario, you would use your trained model to predict on the test set\n",
        "test['predicted Accept'] = 0 # Placeholder: predict 'Reject' for all for now. REPLACE THIS with your model predictions\n",
        "\n",
        "# Create the submission dataframe\n",
        "submission_df = test[['id', 'predicted Accept']].copy()\n",
        "\n",
        "# Rename the 'predicted Accept' column to 'Accept' to match the sample_submission.csv format\n",
        "submission_df.rename(columns={'predicted Accept': 'Accept'}, inplace=True)\n",
        "\n",
        "# Ensure the id column is an integer\n",
        "submission_df['id'] = submission_df['id'].astype(int)\n",
        "\n",
        "# Save the submission dataframe to a CSV file\n",
        "submission_df.to_csv('my-model.csv', index=False)\n",
        "\n",
        "print(\"Submission file 'my-model.csv' created successfully.\")\n",
        "print(submission_df.head())"
      ],
      "metadata": {
        "colab": {
          "base_uri": "https://localhost:8080/"
        },
        "id": "A3orQRpHPnwU",
        "outputId": "e046a2ff-fad2-44d1-8695-d3fb1fbb2335"
      },
      "id": "A3orQRpHPnwU",
      "execution_count": 32,
      "outputs": [
        {
          "output_type": "stream",
          "name": "stdout",
          "text": [
            "Columns in the test DataFrame: ['id', 'LoanNr_ChkDgt', 'Name', 'City', 'State', 'Bank', 'BankState', 'ApprovalFY', 'NoEmp', 'NewExist', 'CreateJob', 'RetainedJob', 'FranchiseCode', 'UrbanRural', 'RevLineCr', 'LowDoc', 'DisbursementGross', 'BalanceGross', 'ApprovalYear', 'ApprovalMonth', 'ApprovalDay', 'DisbursementYear', 'DisbursementMonth', 'DisbursementDay', 'JobGrowth', 'predicted Accept']\n",
            "Submission file 'my-model.csv' created successfully.\n",
            "      id  Accept\n",
            "0  18718       0\n",
            "1  19097       0\n",
            "2   4710       0\n",
            "3  29984       0\n",
            "4  42285       0\n"
          ]
        }
      ]
    },
    {
      "cell_type": "markdown",
      "id": "c506f136",
      "metadata": {
        "id": "c506f136"
      },
      "source": [
        "✅ Your submission file is now ready for upload to Kaggle."
      ]
    },
    {
      "cell_type": "code",
      "source": [],
      "metadata": {
        "id": "UedCR4UKPwek"
      },
      "id": "UedCR4UKPwek",
      "execution_count": null,
      "outputs": []
    }
  ],
  "metadata": {
    "colab": {
      "provenance": []
    },
    "language_info": {
      "name": "python"
    },
    "kernelspec": {
      "name": "python3",
      "display_name": "Python 3"
    }
  },
  "nbformat": 4,
  "nbformat_minor": 5
}