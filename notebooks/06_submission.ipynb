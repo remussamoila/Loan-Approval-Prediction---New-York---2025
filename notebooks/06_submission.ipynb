{
 "cells": [
  {
   "cell_type": "markdown",
   "id": "bef6eff0",
   "metadata": {},
   "source": [
    "# 📤 Submission File - Loan Approval"
   ]
  },
  {
   "cell_type": "code",
   "execution_count": null,
   "id": "1360f9e4",
   "metadata": {},
   "outputs": [],
   "source": [
    "# 👤 Author: Aye\n",
    "# Predict and export final submission file"
   ]
  },
  {
   "cell_type": "code",
   "execution_count": null,
   "id": "1fd4ce4a",
   "metadata": {},
   "outputs": [],
   "source": [
    "test['Accept'] = model.predict(X_test)\n",
    "test['Accept'] = test['Accept'].astype(int)\n",
    "test[['id', 'Accept']].to_csv('my-model.csv', index=False)"
   ]
  },
  {
   "cell_type": "markdown",
   "id": "c506f136",
   "metadata": {},
   "source": [
    "✅ Your submission file is now ready for upload to Kaggle."
   ]
  }
 ],
 "metadata": {},
 "nbformat": 4,
 "nbformat_minor": 5
}
