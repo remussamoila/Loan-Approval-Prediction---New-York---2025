{
 "cells": [
  {
   "cell_type": "markdown",
   "id": "c9916604",
   "metadata": {},
   "source": [
    "# 🧠 Loan Approval Prediction - EDA"
   ]
  },
  {
   "cell_type": "code",
   "execution_count": null,
   "id": "b4f88505",
   "metadata": {},
   "outputs": [],
   "source": [
    "# 👤 Author: Samvel\n",
    "# Load libraries\n",
    "import pandas as pd\n",
    "import seaborn as sns\n",
    "import matplotlib.pyplot as plt"
   ]
  },
  {
   "cell_type": "code",
   "execution_count": null,
   "id": "3410d198",
   "metadata": {},
   "outputs": [],
   "source": [
    "# Load dataset\n",
    "train = pd.read_csv('data/train.csv')\n",
    "train.head()"
   ]
  },
  {
   "cell_type": "markdown",
   "id": "8ab8cffe",
   "metadata": {},
   "source": [
    "## 📊 Target Distribution"
   ]
  },
  {
   "cell_type": "code",
   "execution_count": null,
   "id": "4c8b5d78",
   "metadata": {},
   "outputs": [],
   "source": [
    "sns.countplot(x='Accept', data=train)"
   ]
  },
  {
   "cell_type": "markdown",
   "id": "e7d6f90f",
   "metadata": {},
   "source": [
    "## 📌 Correlation Heatmap"
   ]
  },
  {
   "cell_type": "code",
   "execution_count": null,
   "id": "7e078ccd",
   "metadata": {},
   "outputs": [],
   "source": [
    "sns.heatmap(train.corr(), annot=True, cmap='coolwarm')"
   ]
  },
  {
   "cell_type": "markdown",
   "id": "9a9f02a7",
   "metadata": {},
   "source": [
    "_Note: This notebook is used only for EDA. Data cleaning is handled separately in preprocessing._"
   ]
  }
 ],
 "metadata": {},
 "nbformat": 4,
 "nbformat_minor": 5
}
