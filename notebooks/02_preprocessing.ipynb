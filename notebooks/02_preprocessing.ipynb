{
 "cells": [
  {
   "cell_type": "markdown",
   "id": "bcc180aa",
   "metadata": {},
   "source": [
    "# 🧼 Preprocessing - Loan Approval"
   ]
  },
  {
   "cell_type": "code",
   "execution_count": null,
   "id": "dd7c4e81",
   "metadata": {},
   "outputs": [],
   "source": [
    "# 👤 Author: Anne\n",
    "import pandas as pd\n",
    "from sklearn.preprocessing import LabelEncoder"
   ]
  },
  {
   "cell_type": "code",
   "execution_count": null,
   "id": "2c9cb008",
   "metadata": {},
   "outputs": [],
   "source": [
    "train = pd.read_csv('data/train.csv')\n",
    "test = pd.read_csv('data/test_nolabel.csv')"
   ]
  },
  {
   "cell_type": "markdown",
   "id": "393c5462",
   "metadata": {},
   "source": [
    "## 🔍 Separate Feature Types"
   ]
  },
  {
   "cell_type": "code",
   "execution_count": null,
   "id": "af5adad6",
   "metadata": {},
   "outputs": [],
   "source": [
    "num_cols = train.select_dtypes(include=['int64', 'float64']).columns.tolist()\n",
    "cat_cols = train.select_dtypes(include='object').columns.tolist()"
   ]
  },
  {
   "cell_type": "markdown",
   "id": "c1852514",
   "metadata": {},
   "source": [
    "## 🧼 Handle Missing Values"
   ]
  },
  {
   "cell_type": "code",
   "execution_count": null,
   "id": "760803f0",
   "metadata": {},
   "outputs": [],
   "source": [
    "train[num_cols] = train[num_cols].fillna(train[num_cols].median())\n",
    "test[num_cols] = test[num_cols].fillna(train[num_cols].median())\n",
    "\n",
    "for col in cat_cols:\n",
    "    mode = train[col].mode()[0]\n",
    "    train[col] = train[col].fillna(mode)\n",
    "    test[col] = test[col].fillna(mode)"
   ]
  },
  {
   "cell_type": "markdown",
   "id": "4a32b142",
   "metadata": {},
   "source": [
    "## 🔁 Label Encoding"
   ]
  },
  {
   "cell_type": "code",
   "execution_count": null,
   "id": "fc36a0c4",
   "metadata": {},
   "outputs": [],
   "source": [
    "encoders = {}\n",
    "for col in cat_cols:\n",
    "    le = LabelEncoder()\n",
    "    train[col] = le.fit_transform(train[col].astype(str))\n",
    "    test[col] = le.transform(test[col].astype(str))\n",
    "    encoders[col] = le"
   ]
  },
  {
   "cell_type": "markdown",
   "id": "45f78587",
   "metadata": {},
   "source": [
    "_Note: Ensure the same preprocessing is applied to test data._"
   ]
  }
 ],
 "metadata": {},
 "nbformat": 4,
 "nbformat_minor": 5
}
