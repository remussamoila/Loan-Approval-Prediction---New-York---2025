{
  "cells": [
    {
      "cell_type": "code",
      "source": [
        "# Clone the repo (safe to re-run if it already exists)\n",
        "import os\n",
        "\n",
        "if not os.path.exists(\"Loan-Approval-Prediction---New-York---2025\"):\n",
        "    !git clone https://github.com/remussamoila/Loan-Approval-Prediction---New-York---2025.git\n",
        "\n",
        "%cd Loan-Approval-Prediction---New-York---2025"
      ],
      "metadata": {
        "id": "4k8xUJP_iDb7"
      },
      "id": "4k8xUJP_iDb7",
      "execution_count": null,
      "outputs": []
    },
    {
      "cell_type": "markdown",
      "source": [
        "[![Open In Colab](https://colab.research.google.com/assets/colab-badge.svg)](\n",
        "https://colab.research.google.com/github/remussamoila/Loan-Approval-Prediction---New-York---2025/blob/main/notebooks/00_setup_repo.ipynb)\n"
      ],
      "metadata": {
        "id": "OGLRe9TgiZ5S"
      },
      "id": "OGLRe9TgiZ5S"
    },
    {
      "cell_type": "markdown",
      "id": "bcc180aa",
      "metadata": {
        "id": "bcc180aa"
      },
      "source": [
        "# 🧼 Preprocessing - Loan Approval"
      ]
    },
    {
      "cell_type": "code",
      "execution_count": null,
      "id": "dd7c4e81",
      "metadata": {
        "id": "dd7c4e81"
      },
      "outputs": [],
      "source": [
        "# 👤 Author: Anne\n",
        "import pandas as pd\n",
        "from sklearn.preprocessing import LabelEncoder"
      ]
    },
    {
      "cell_type": "code",
      "execution_count": null,
      "id": "2c9cb008",
      "metadata": {
        "id": "2c9cb008"
      },
      "outputs": [],
      "source": [
        "train = pd.read_csv('data/train.csv')\n",
        "test = pd.read_csv('data/test_nolabel.csv')"
      ]
    },
    {
      "cell_type": "markdown",
      "id": "393c5462",
      "metadata": {
        "id": "393c5462"
      },
      "source": [
        "## 🔍 Separate Feature Types"
      ]
    },
    {
      "cell_type": "code",
      "execution_count": null,
      "id": "af5adad6",
      "metadata": {
        "id": "af5adad6"
      },
      "outputs": [],
      "source": [
        "num_cols = train.select_dtypes(include=['int64', 'float64']).columns.tolist()\n",
        "cat_cols = train.select_dtypes(include='object').columns.tolist()"
      ]
    },
    {
      "cell_type": "markdown",
      "id": "c1852514",
      "metadata": {
        "id": "c1852514"
      },
      "source": [
        "## 🧼 Handle Missing Values"
      ]
    },
    {
      "cell_type": "code",
      "execution_count": null,
      "id": "760803f0",
      "metadata": {
        "id": "760803f0"
      },
      "outputs": [],
      "source": [
        "train[num_cols] = train[num_cols].fillna(train[num_cols].median())\n",
        "test[num_cols] = test[num_cols].fillna(train[num_cols].median())\n",
        "\n",
        "for col in cat_cols:\n",
        "    mode = train[col].mode()[0]\n",
        "    train[col] = train[col].fillna(mode)\n",
        "    test[col] = test[col].fillna(mode)"
      ]
    },
    {
      "cell_type": "markdown",
      "id": "4a32b142",
      "metadata": {
        "id": "4a32b142"
      },
      "source": [
        "## 🔁 Label Encoding"
      ]
    },
    {
      "cell_type": "code",
      "execution_count": null,
      "id": "fc36a0c4",
      "metadata": {
        "id": "fc36a0c4"
      },
      "outputs": [],
      "source": [
        "encoders = {}\n",
        "for col in cat_cols:\n",
        "    le = LabelEncoder()\n",
        "    train[col] = le.fit_transform(train[col].astype(str))\n",
        "    test[col] = le.transform(test[col].astype(str))\n",
        "    encoders[col] = le"
      ]
    },
    {
      "cell_type": "markdown",
      "id": "45f78587",
      "metadata": {
        "id": "45f78587"
      },
      "source": [
        "_Note: Ensure the same preprocessing is applied to test data._"
      ]
    }
  ],
  "metadata": {
    "colab": {
      "provenance": []
    }
  },
  "nbformat": 4,
  "nbformat_minor": 5
}