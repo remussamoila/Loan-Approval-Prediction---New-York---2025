{
  "cells": [
    {
      "cell_type": "code",
      "source": [
        "# Clone the repo (safe to re-run if it already exists)\n",
        "import os\n",
        "\n",
        "if not os.path.exists(\"Loan-Approval-Prediction---New-York---2025\"):\n",
        "    !git clone https://github.com/remussamoila/Loan-Approval-Prediction---New-York---2025.git\n",
        "\n",
        "%cd Loan-Approval-Prediction---New-York---2025"
      ],
      "metadata": {
        "id": "4k8xUJP_iDb7",
        "outputId": "96e1c3c0-d0c0-4d25-d124-28fddced8561",
        "colab": {
          "base_uri": "https://localhost:8080/"
        }
      },
      "id": "4k8xUJP_iDb7",
      "execution_count": 1,
      "outputs": [
        {
          "output_type": "stream",
          "name": "stdout",
          "text": [
            "Cloning into 'Loan-Approval-Prediction---New-York---2025'...\n",
            "remote: Enumerating objects: 204, done.\u001b[K\n",
            "remote: Counting objects: 100% (44/44), done.\u001b[K\n",
            "remote: Compressing objects: 100% (40/40), done.\u001b[K\n",
            "remote: Total 204 (delta 19), reused 3 (delta 3), pack-reused 160 (from 1)\u001b[K\n",
            "Receiving objects: 100% (204/204), 2.82 MiB | 8.75 MiB/s, done.\n",
            "Resolving deltas: 100% (83/83), done.\n",
            "/content/Loan-Approval-Prediction---New-York---2025\n"
          ]
        }
      ]
    },
    {
      "cell_type": "markdown",
      "source": [
        "[![Open In Colab](https://colab.research.google.com/assets/colab-badge.svg)](\n",
        "https://colab.research.google.com/github/remussamoila/Loan-Approval-Prediction---New-York---2025/blob/main/notebooks/02_preprocessing.ipynb)\n"
      ],
      "metadata": {
        "id": "OGLRe9TgiZ5S"
      },
      "id": "OGLRe9TgiZ5S"
    },
    {
      "cell_type": "markdown",
      "source": [],
      "metadata": {
        "id": "fk9Fzb56vfXE"
      },
      "id": "fk9Fzb56vfXE"
    },
    {
      "cell_type": "markdown",
      "id": "bcc180aa",
      "metadata": {
        "id": "bcc180aa"
      },
      "source": [
        "# 🧼 Preprocessing - Loan Approval"
      ]
    },
    {
      "cell_type": "code",
      "execution_count": 5,
      "id": "dd7c4e81",
      "metadata": {
        "id": "dd7c4e81"
      },
      "outputs": [],
      "source": [
        "# 👤 Author: Anne Cojocaru\n",
        "import pandas as pd\n",
        "from sklearn.preprocessing import LabelEncoder"
      ]
    },
    {
      "cell_type": "code",
      "execution_count": 3,
      "id": "2c9cb008",
      "metadata": {
        "id": "2c9cb008",
        "outputId": "0ed5d87e-5703-490d-99bd-d61662dcbadd",
        "colab": {
          "base_uri": "https://localhost:8080/"
        }
      },
      "outputs": [
        {
          "output_type": "stream",
          "name": "stderr",
          "text": [
            "<ipython-input-3-74ba50799869>:1: DtypeWarning: Columns (8) have mixed types. Specify dtype option on import or set low_memory=False.\n",
            "  train = pd.read_csv('data/train.csv')\n"
          ]
        }
      ],
      "source": [
        "train = pd.read_csv('data/train.csv')\n",
        "test = pd.read_csv('data/test_nolabel.csv')"
      ]
    },
    {
      "cell_type": "markdown",
      "source": [],
      "metadata": {
        "id": "vE56LHJU3V_r"
      },
      "id": "vE56LHJU3V_r"
    },
    {
      "cell_type": "markdown",
      "id": "393c5462",
      "metadata": {
        "id": "393c5462"
      },
      "source": [
        "## 🔍 Separate Feature Types"
      ]
    },
    {
      "cell_type": "code",
      "execution_count": 4,
      "id": "af5adad6",
      "metadata": {
        "id": "af5adad6"
      },
      "outputs": [],
      "source": [
        "num_cols = train.select_dtypes(include=['int64', 'float64']).columns.tolist()\n",
        "cat_cols = train.select_dtypes(include='object').columns.tolist()"
      ]
    },
    {
      "cell_type": "markdown",
      "id": "c1852514",
      "metadata": {
        "id": "c1852514"
      },
      "source": [
        "## 🧼 Handle Missing Values"
      ]
    },
    {
      "cell_type": "code",
      "execution_count": 6,
      "id": "760803f0",
      "metadata": {
        "id": "760803f0"
      },
      "outputs": [],
      "source": [
        "train[num_cols] = train[num_cols].fillna(train[num_cols].median())\n",
        "\n",
        "# Filter num_cols to only include columns present in test DataFrame\n",
        "test_num_cols_present = [col for col in num_cols if col in test.columns]\n",
        "test[test_num_cols_present] = test[test_num_cols_present].fillna(train[num_cols].median())\n",
        "\n",
        "for col in cat_cols:\n",
        "    mode = train[col].mode()[0]\n",
        "    train[col] = train[col].fillna(mode)\n",
        "    test[col] = test[col].fillna(mode)\n",
        "\n",
        "\n",
        "\n",
        "\n",
        "\n",
        "# Fill missing values in categorical columns (mode)\n",
        "for col in cat_cols:\n",
        "    mode = train[col].mode()[0]\n",
        "    train[col] = train[col].fillna(mode)\n",
        "    if col in test.columns:\n",
        "        test[col] = test[col].fillna(mode)\n",
        "\n"
      ]
    },
    {
      "cell_type": "markdown",
      "id": "4a32b142",
      "metadata": {
        "id": "4a32b142"
      },
      "source": [
        "## 🔁 Label Encoding"
      ]
    },
    {
      "cell_type": "code",
      "execution_count": 7,
      "id": "fc36a0c4",
      "metadata": {
        "id": "fc36a0c4"
      },
      "outputs": [],
      "source": [
        "# Label Encoding\n",
        "encoders = {}\n",
        "# Exclude 'id' column from label encoding if it exists in cat_cols\n",
        "cat_cols_for_encoding = [col for col in cat_cols if col != 'id']\n",
        "\n",
        "for col in cat_cols_for_encoding:\n",
        "    le = LabelEncoder()\n",
        "    # Combine train and test data for fitting to handle unseen labels in test\n",
        "    # We concatenate the column from train and test, get unique values, and fit the encoder on these\n",
        "    combined_series = pd.concat([train[col], test[col]], axis=0).astype(str).unique()\n",
        "    le.fit(combined_series)\n",
        "\n",
        "    # Now transform both the train and test data using the fitted encoder\n",
        "    train[col] = le.transform(train[col].astype(str))\n",
        "    test[col] = le.transform(test[col].astype(str))\n",
        "    encoders[col] = le\n",
        "\n"
      ]
    },
    {
      "cell_type": "markdown",
      "id": "45f78587",
      "metadata": {
        "id": "45f78587"
      },
      "source": [
        "_Note: Ensure the same preprocessing is applied to test data._"
      ]
    },
    {
      "cell_type": "markdown",
      "source": [
        "i tried label encoding again - 2 ///\n",
        "this time with label encoder  ///"
      ],
      "metadata": {
        "id": "1ZnAck7CsxJm"
      },
      "id": "1ZnAck7CsxJm"
    },
    {
      "cell_type": "code",
      "source": [
        "# Apply one-hot encoding to both train and test\n",
        "train = pd.get_dummies(train, columns=cat_cols)\n",
        "test = pd.get_dummies(test, columns=cat_cols)\n",
        "\n",
        "# Align the columns to make sure both DataFrames match\n",
        "train, test = train.align(test, join='left', axis=1, fill_value=0)\n"
      ],
      "metadata": {
        "id": "nF7_GZ1zqeDi"
      },
      "id": "nF7_GZ1zqeDi",
      "execution_count": null,
      "outputs": []
    },
    {
      "cell_type": "code",
      "source": [
        "import pandas as pd\n",
        "from sklearn.preprocessing import LabelEncoder\n",
        "\n",
        "# Example DataFrame with a categorical column\n",
        "data = {'Color': ['Red', 'Green', 'Blue', 'Red', 'Green', 'Red']}\n",
        "df = pd.DataFrame(data)\n",
        "\n",
        "print(\"Original DataFrame:\")\n",
        "print(df)\n",
        "\n",
        "# Initialize the LabelEncoder\n",
        "le = LabelEncoder()\n",
        "\n",
        "# Fit and transform the categorical column\n",
        "# .fit() learns the unique categories in the data\n",
        "# .transform() converts the categories to numerical labels\n",
        "df['Color_Encoded'] = le.fit_transform(df['Color'])\n",
        "\n",
        "print(\"\\nDataFrame after Label Encoding:\")\n",
        "print(df)\n",
        "\n",
        "# You can also see the mapping between categories and their assigned numerical labels\n",
        "print(\"\\nMapping of categories to numerical labels:\")\n",
        "# We convert the numpy array to a list for better readability\n",
        "print(dict(zip(le.classes_, le.transform(le.classes_))))\n",
        "\n",
        "# To transform new data using the same learned mapping, you use .transform()\n",
        "# Example with new data (assuming 'Red' and 'Blue' are present in original data)\n",
        "new_data = pd.DataFrame({'Color': ['Blue', 'Red']})\n",
        "new_data['Color_Encoded'] = le.transform(new_data['Color'])\n",
        "\n",
        "print(\"\\nNew data transformed using the fitted encoder:\")\n",
        "print(new_data)\n",
        "\n"
      ],
      "metadata": {
        "id": "52-kiP1OsU6-",
        "outputId": "80f9c069-82a3-4e8c-b115-d322f34f9ced",
        "colab": {
          "base_uri": "https://localhost:8080/"
        }
      },
      "id": "52-kiP1OsU6-",
      "execution_count": 1,
      "outputs": [
        {
          "output_type": "stream",
          "name": "stdout",
          "text": [
            "Original DataFrame:\n",
            "   Color\n",
            "0    Red\n",
            "1  Green\n",
            "2   Blue\n",
            "3    Red\n",
            "4  Green\n",
            "5    Red\n",
            "\n",
            "DataFrame after Label Encoding:\n",
            "   Color  Color_Encoded\n",
            "0    Red              2\n",
            "1  Green              1\n",
            "2   Blue              0\n",
            "3    Red              2\n",
            "4  Green              1\n",
            "5    Red              2\n",
            "\n",
            "Mapping of categories to numerical labels:\n",
            "{'Blue': np.int64(0), 'Green': np.int64(1), 'Red': np.int64(2)}\n",
            "\n",
            "New data transformed using the fitted encoder:\n",
            "  Color  Color_Encoded\n",
            "0  Blue              0\n",
            "1   Red              2\n"
          ]
        }
      ]
    },
    {
      "cell_type": "markdown",
      "source": [
        "another try - 3\n"
      ],
      "metadata": {
        "id": "XyHvLW9ovhzJ"
      },
      "id": "XyHvLW9ovhzJ"
    },
    {
      "cell_type": "code",
      "source": [
        "# Separate Feature Types\n",
        "num_cols = train.select_dtypes(include=['int64', 'float64']).columns.tolist()\n",
        "# Initially get all object columns, including 'id' if it exists\n",
        "cat_cols = train.select_dtypes(include='object').columns.tolist()\n",
        "\n",
        "# Remove target column from feature lists (doing this now is fine)\n",
        "if 'Accept' in num_cols:\n",
        "    num_cols.remove('Accept')\n",
        "if 'Accept' in cat_cols:\n",
        "    cat_cols.remove('Accept')\n",
        "\n",
        "# Optional: Check for 'id' column and drop it if unnecessary\n",
        "if 'id' in train.columns:\n",
        "    train.drop(columns='id', inplace=True)\n",
        "if 'id' in test.columns:\n",
        "    test.drop(columns='id', inplace=True)\n",
        "\n",
        "#  Handle Missing Values (numerical: median)\n",
        "train[num_cols] = train[num_cols].fillna(train[num_cols].median())\n",
        "test[num_cols] = test[num_cols].fillna(train[num_cols].median())\n",
        "\n",
        "#  Handle Missing Values (categorical: mode)\n",
        "for col in cat_cols:\n",
        "    mode = train[col].mode()[0]\n",
        "    train[col] = train[col].fillna(mode)\n",
        "    if col in test.columns:\n",
        "        test[col] = test[col].fillna(mode)\n",
        "\n",
        "#  Encode Categorical Features (One-Hot) - SO THIS TIME WITH GET_DUMMIES NOT LABELENCODER\n",
        "train = pd.get_dummies(train, columns=cat_cols)\n",
        "test = pd.get_dummies(test, columns=cat_cols)\n",
        "\n",
        "# ensure same columns\n",
        "train, test = train.align(test, join='left', axis=1, fill_value=0)\n",
        "\n",
        "# 🎯 Split X, y, X_test\n",
        "X = train.drop('Accept', axis=1)\n",
        "y = train['Accept']\n",
        "X_test = test.copy()\n",
        "\n",
        "# Confirm\n",
        "print(\"✅ Shape of X:\", X.shape)\n",
        "print(\"✅ Shape of y:\", y.shape)\n",
        "print(\"✅ Shape of X_test:\", X_test.shape)\n",
        "\n",
        "#its obvious what happened\n",
        "# i suggest to run them by smaller parts, but i did that and the sessions crushed"
      ],
      "metadata": {
        "id": "TvD6FtlLvjIG"
      },
      "id": "TvD6FtlLvjIG",
      "execution_count": null,
      "outputs": []
    }
  ],
  "metadata": {
    "colab": {
      "provenance": []
    },
    "language_info": {
      "name": "python"
    },
    "kernelspec": {
      "name": "python3",
      "display_name": "Python 3"
    }
  },
  "nbformat": 4,
  "nbformat_minor": 5
}