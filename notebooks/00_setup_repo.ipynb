{
  "cells": [
    {
      "cell_type": "markdown",
      "id": "48af76f6",
      "metadata": {
        "id": "48af76f6"
      },
      "source": [
        "# 🚀 Setup Notebook: Clone GitHub Repository"
      ]
    },
    {
      "cell_type": "markdown",
      "id": "c11eec01",
      "metadata": {
        "id": "c11eec01"
      },
      "source": [
        "This notebook clones your team's Kaggle competition repository and sets the working directory for use in Colab."
      ]
    },
    {
      "cell_type": "code",
      "execution_count": null,
      "id": "c33f42ae",
      "metadata": {
        "id": "c33f42ae"
      },
      "outputs": [],
      "source": [
        "# 👤 Author: Shared team setup\n",
        "# 📦 Clone the GitHub repository\n",
        "\n",
        "!git clone https://github.com/remussamoila/Loan-Approval-Prediction---New-York---2025.git\n",
        "%cd Loan-Approval-Prediction---New-York---2025\n"
      ]
    },
    {
      "cell_type": "code",
      "execution_count": null,
      "id": "0dd375e5",
      "metadata": {
        "id": "0dd375e5"
      },
      "outputs": [],
      "source": [
        "# ✅ List folders to confirm structure\n",
        "import os\n",
        "os.listdir()\n"
      ]
    },
    {
      "cell_type": "markdown",
      "source": [
        "# Loan Approval Prediction Project"
      ],
      "metadata": {
        "id": "igeDL6msCIHk"
      },
      "id": "igeDL6msCIHk"
    },
    {
      "cell_type": "markdown",
      "source": [
        "## Introduction\n",
        "In this project, we aim to build a machine learning model to predict loan approvals based on a variety of features from SME enterprises. We will follow a standard machine learning pipeline including data loading, EDA, cleaning, feature engineering, modeling, ensembling, and submission creation."
      ],
      "metadata": {
        "id": "QGZ9IAW1CMJZ"
      },
      "id": "QGZ9IAW1CMJZ"
    },
    {
      "cell_type": "markdown",
      "source": [
        "## Step 1: Load Data"
      ],
      "metadata": {
        "id": "t2ackL8MCRj5"
      },
      "id": "t2ackL8MCRj5"
    },
    {
      "source": [
        "import pandas as pd\n",
        "import numpy as np\n",
        "\n",
        "train = pd.read_csv('/content/Loan-Approval-Prediction---New-York---2025/data/train.csv', low_memory=False, parse_dates=['ApprovalDate', 'DisbursementDate'])\n",
        "test = pd.read_csv('/content/Loan-Approval-Prediction---New-York---2025/data/test_nolabel.csv', low_memory=False, parse_dates=['ApprovalDate', 'DisbursementDate'])\n",
        "submission = pd.read_csv('/content/Loan-Approval-Prediction---New-York---2025/data/sample_submission.csv')\n",
        "\n",
        "print('Train shape:', train.shape)\n",
        "print('Test shape:', test.shape)\n",
        "print('Submission shape:', submission.shape)"
      ],
      "cell_type": "code",
      "metadata": {
        "id": "U35jsg1wESuV",
        "outputId": "dcaa0fe2-0de7-44ca-9f92-81cc4bbf4285",
        "colab": {
          "base_uri": "https://localhost:8080/"
        }
      },
      "id": "U35jsg1wESuV",
      "execution_count": 9,
      "outputs": [
        {
          "output_type": "stream",
          "name": "stderr",
          "text": [
            "<ipython-input-9-0553505d9bb7>:4: UserWarning: Could not infer format, so each element will be parsed individually, falling back to `dateutil`. To ensure parsing is consistent and as-expected, please specify a format.\n",
            "  train = pd.read_csv('/content/Loan-Approval-Prediction---New-York---2025/data/train.csv', low_memory=False, parse_dates=['ApprovalDate', 'DisbursementDate'])\n",
            "<ipython-input-9-0553505d9bb7>:4: UserWarning: Could not infer format, so each element will be parsed individually, falling back to `dateutil`. To ensure parsing is consistent and as-expected, please specify a format.\n",
            "  train = pd.read_csv('/content/Loan-Approval-Prediction---New-York---2025/data/train.csv', low_memory=False, parse_dates=['ApprovalDate', 'DisbursementDate'])\n",
            "<ipython-input-9-0553505d9bb7>:5: UserWarning: Could not infer format, so each element will be parsed individually, falling back to `dateutil`. To ensure parsing is consistent and as-expected, please specify a format.\n",
            "  test = pd.read_csv('/content/Loan-Approval-Prediction---New-York---2025/data/test_nolabel.csv', low_memory=False, parse_dates=['ApprovalDate', 'DisbursementDate'])\n"
          ]
        },
        {
          "output_type": "stream",
          "name": "stdout",
          "text": [
            "Train shape: (40385, 21)\n",
            "Test shape: (7050, 20)\n",
            "Submission shape: (7050, 2)\n"
          ]
        },
        {
          "output_type": "stream",
          "name": "stderr",
          "text": [
            "<ipython-input-9-0553505d9bb7>:5: UserWarning: Could not infer format, so each element will be parsed individually, falling back to `dateutil`. To ensure parsing is consistent and as-expected, please specify a format.\n",
            "  test = pd.read_csv('/content/Loan-Approval-Prediction---New-York---2025/data/test_nolabel.csv', low_memory=False, parse_dates=['ApprovalDate', 'DisbursementDate'])\n"
          ]
        }
      ]
    },
    {
      "cell_type": "markdown",
      "source": [
        "## Step 2: Handle Missing Values\n"
      ],
      "metadata": {
        "id": "vLUVzDc9Eny8"
      },
      "id": "vLUVzDc9Eny8"
    },
    {
      "cell_type": "markdown",
      "source": [
        "# Fill missing values\n"
      ],
      "metadata": {
        "id": "sNLY6gs8EsOv"
      },
      "id": "sNLY6gs8EsOv"
    },
    {
      "cell_type": "code",
      "source": [
        "for col in train.columns:\n",
        "    if train[col].isnull().sum() > 0:\n",
        "        if train[col].dtype == 'object':\n",
        "            train[col].fillna(train[col].mode()[0], inplace=True)\n",
        "            if col in test.columns: test[col].fillna(train[col].mode()[0], inplace=True)\n",
        "        else:\n",
        "            train[col].fillna(train[col].median(), inplace=True)\n",
        "            if col in test.columns: test[col].fillna(train[col].median(), inplace=True)"
      ],
      "metadata": {
        "id": "Q5d9lh9pE1Er",
        "outputId": "82c9245e-fff7-40fd-abeb-a4b328259db7",
        "colab": {
          "base_uri": "https://localhost:8080/"
        }
      },
      "id": "Q5d9lh9pE1Er",
      "execution_count": 10,
      "outputs": [
        {
          "output_type": "stream",
          "name": "stderr",
          "text": [
            "<ipython-input-10-ebf46d1f6211>:4: FutureWarning: A value is trying to be set on a copy of a DataFrame or Series through chained assignment using an inplace method.\n",
            "The behavior will change in pandas 3.0. This inplace method will never work because the intermediate object on which we are setting values always behaves as a copy.\n",
            "\n",
            "For example, when doing 'df[col].method(value, inplace=True)', try using 'df.method({col: value}, inplace=True)' or df[col] = df[col].method(value) instead, to perform the operation inplace on the original object.\n",
            "\n",
            "\n",
            "  train[col].fillna(train[col].mode()[0], inplace=True)\n",
            "<ipython-input-10-ebf46d1f6211>:5: FutureWarning: A value is trying to be set on a copy of a DataFrame or Series through chained assignment using an inplace method.\n",
            "The behavior will change in pandas 3.0. This inplace method will never work because the intermediate object on which we are setting values always behaves as a copy.\n",
            "\n",
            "For example, when doing 'df[col].method(value, inplace=True)', try using 'df.method({col: value}, inplace=True)' or df[col] = df[col].method(value) instead, to perform the operation inplace on the original object.\n",
            "\n",
            "\n",
            "  if col in test.columns: test[col].fillna(train[col].mode()[0], inplace=True)\n",
            "<ipython-input-10-ebf46d1f6211>:7: FutureWarning: A value is trying to be set on a copy of a DataFrame or Series through chained assignment using an inplace method.\n",
            "The behavior will change in pandas 3.0. This inplace method will never work because the intermediate object on which we are setting values always behaves as a copy.\n",
            "\n",
            "For example, when doing 'df[col].method(value, inplace=True)', try using 'df.method({col: value}, inplace=True)' or df[col] = df[col].method(value) instead, to perform the operation inplace on the original object.\n",
            "\n",
            "\n",
            "  train[col].fillna(train[col].median(), inplace=True)\n",
            "<ipython-input-10-ebf46d1f6211>:8: FutureWarning: A value is trying to be set on a copy of a DataFrame or Series through chained assignment using an inplace method.\n",
            "The behavior will change in pandas 3.0. This inplace method will never work because the intermediate object on which we are setting values always behaves as a copy.\n",
            "\n",
            "For example, when doing 'df[col].method(value, inplace=True)', try using 'df.method({col: value}, inplace=True)' or df[col] = df[col].method(value) instead, to perform the operation inplace on the original object.\n",
            "\n",
            "\n",
            "  if col in test.columns: test[col].fillna(train[col].median(), inplace=True)\n",
            "<ipython-input-10-ebf46d1f6211>:7: FutureWarning: A value is trying to be set on a copy of a DataFrame or Series through chained assignment using an inplace method.\n",
            "The behavior will change in pandas 3.0. This inplace method will never work because the intermediate object on which we are setting values always behaves as a copy.\n",
            "\n",
            "For example, when doing 'df[col].method(value, inplace=True)', try using 'df.method({col: value}, inplace=True)' or df[col] = df[col].method(value) instead, to perform the operation inplace on the original object.\n",
            "\n",
            "\n",
            "  train[col].fillna(train[col].median(), inplace=True)\n",
            "<ipython-input-10-ebf46d1f6211>:8: FutureWarning: A value is trying to be set on a copy of a DataFrame or Series through chained assignment using an inplace method.\n",
            "The behavior will change in pandas 3.0. This inplace method will never work because the intermediate object on which we are setting values always behaves as a copy.\n",
            "\n",
            "For example, when doing 'df[col].method(value, inplace=True)', try using 'df.method({col: value}, inplace=True)' or df[col] = df[col].method(value) instead, to perform the operation inplace on the original object.\n",
            "\n",
            "\n",
            "  if col in test.columns: test[col].fillna(train[col].median(), inplace=True)\n"
          ]
        }
      ]
    },
    {
      "cell_type": "markdown",
      "source": [
        "## Step 3: Feature Engineering\n"
      ],
      "metadata": {
        "id": "8TRqkqoPE8Mf"
      },
      "id": "8TRqkqoPE8Mf"
    },
    {
      "cell_type": "code",
      "source": [
        "for df in [train, test]:\n",
        "    df['ApprovalYear'] = df['ApprovalDate'].dt.year\n",
        "    df['ApprovalMonth'] = df['ApprovalDate'].dt.month\n",
        "    df['ApprovalDay'] = df['ApprovalDate'].dt.day\n",
        "    df['DisbursementYear'] = df['DisbursementDate'].dt.year\n",
        "    df['DisbursementMonth'] = df['DisbursementDate'].dt.month\n",
        "    df['DisbursementDay'] = df['DisbursementDate'].dt.day\n",
        "    df['JobGrowth'] = df['CreateJob'] - df['RetainedJob']\n",
        "\n",
        "train.drop(columns=['ApprovalDate', 'DisbursementDate'], inplace=True)\n",
        "test.drop(columns=['ApprovalDate', 'DisbursementDate'], inplace=True)"
      ],
      "metadata": {
        "id": "QjeTA-gCEsqu"
      },
      "id": "QjeTA-gCEsqu",
      "execution_count": 11,
      "outputs": []
    },
    {
      "cell_type": "markdown",
      "source": [
        "## Step 4: Encode Categorical Variables\n"
      ],
      "metadata": {
        "id": "fKBWa3gIFRjL"
      },
      "id": "fKBWa3gIFRjL"
    },
    {
      "cell_type": "code",
      "source": [
        "from sklearn.preprocessing import LabelEncoder\n",
        "cat_cols = [col for col in train.columns if train[col].dtype == 'object']\n",
        "for col in cat_cols:\n",
        "    le = LabelEncoder()\n",
        "    combined = pd.concat([train[col], test[col]]).astype(str)\n",
        "    le.fit(combined)\n",
        "    train[col] = le.transform(train[col].astype(str))\n",
        "    test[col] = le.transform(test[col].astype(str))\n"
      ],
      "metadata": {
        "id": "V7xMY_8WFSLq"
      },
      "id": "V7xMY_8WFSLq",
      "execution_count": 12,
      "outputs": []
    },
    {
      "cell_type": "markdown",
      "source": [
        "## Step 5: Model Training and Evaluation\n"
      ],
      "metadata": {
        "id": "ARZmCVPeFZgF"
      },
      "id": "ARZmCVPeFZgF"
    },
    {
      "cell_type": "code",
      "source": [
        "from sklearn.linear_model import LogisticRegression\n",
        "from sklearn.tree import DecisionTreeClassifier\n",
        "from sklearn.ensemble import RandomForestClassifier, GradientBoostingClassifier, VotingClassifier\n",
        "from sklearn.model_selection import cross_val_score\n",
        "\n",
        "feature_cols = [col for col in train.columns if col not in ['id', 'Accept']]\n",
        "X = train[feature_cols]\n",
        "y = train['Accept'].astype(int)\n",
        "X_test = test[feature_cols]\n",
        "\n",
        "models = {\n",
        "    'Logistic Regression': LogisticRegression(max_iter=1000),\n",
        "    'Decision Tree': DecisionTreeClassifier(),\n",
        "    'Random Forest': RandomForestClassifier(n_estimators=50),\n",
        "    'Gradient Boosting': GradientBoostingClassifier(n_estimators=50)\n",
        "}\n",
        "\n",
        "scores = {}\n",
        "for name, model in models.items():\n",
        "    score = cross_val_score(model, X, y, cv=3, scoring='f1').mean()\n",
        "    scores[name] = score\n",
        "    print(f'{name} mean F1: {score:.3f}')\n",
        "\n",
        "# Ensemble using VotingClassifer\n",
        "estimators = [(name, model) for name, model in models.items()]\n",
        "voting_clf = VotingClassifier(estimators=estimators, voting='soft')\n",
        "voting_score = cross_val_score(voting_clf, X, y, cv=3, scoring='f1').mean()\n",
        "print(f'Ensemble Voting Classifier mean F1: {voting_score:.3f}')\n",
        "\n",
        "voting_clf.fit(X, y)\n",
        "predictions = voting_clf.predict(X_test)"
      ],
      "metadata": {
        "id": "d4hdrJWuFZ6A",
        "outputId": "069de658-f21b-44ee-c142-330d44ba93d0",
        "colab": {
          "base_uri": "https://localhost:8080/"
        }
      },
      "id": "d4hdrJWuFZ6A",
      "execution_count": 13,
      "outputs": [
        {
          "output_type": "stream",
          "name": "stdout",
          "text": [
            "Logistic Regression mean F1: 0.887\n",
            "Decision Tree mean F1: 0.853\n",
            "Random Forest mean F1: 0.907\n",
            "Gradient Boosting mean F1: 0.905\n",
            "Ensemble Voting Classifier mean F1: 0.900\n"
          ]
        }
      ]
    },
    {
      "cell_type": "markdown",
      "source": [
        "## Step 6: Generate Submission\n"
      ],
      "metadata": {
        "id": "Qe5R1zVoFtjD"
      },
      "id": "Qe5R1zVoFtjD"
    },
    {
      "cell_type": "code",
      "source": [
        "submission['Accept'] = predictions.astype(int)\n",
        "submission.to_csv('final_submission_ensemble.csv', index=False)"
      ],
      "metadata": {
        "id": "lNtVRFrEFwJ9"
      },
      "id": "lNtVRFrEFwJ9",
      "execution_count": 14,
      "outputs": []
    }
  ],
  "metadata": {
    "colab": {
      "provenance": []
    },
    "language_info": {
      "name": "python"
    },
    "kernelspec": {
      "name": "python3",
      "display_name": "Python 3"
    }
  },
  "nbformat": 4,
  "nbformat_minor": 5
}