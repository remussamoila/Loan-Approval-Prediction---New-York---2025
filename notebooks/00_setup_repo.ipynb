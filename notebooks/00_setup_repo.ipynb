{
 "cells": [
  {
   "cell_type": "markdown",
   "id": "48af76f6",
   "metadata": {},
   "source": [
    "# 🚀 Setup Notebook: Clone GitHub Repository"
   ]
  },
  {
   "cell_type": "markdown",
   "id": "c11eec01",
   "metadata": {},
   "source": [
    "This notebook clones your team's Kaggle competition repository and sets the working directory for use in Colab."
   ]
  },
  {
   "cell_type": "code",
   "execution_count": null,
   "id": "c33f42ae",
   "metadata": {},
   "outputs": [],
   "source": [
    "# 👤 Author: Shared team setup\n",
    "# 📦 Clone the GitHub repository\n",
    "\n",
    "!git clone https://github.com/remussamoila/Loan-Approval-Prediction---New-York---2025.git\n",
    "%cd Loan-Approval-Prediction---New-York---2025\n"
   ]
  },
  {
   "cell_type": "code",
   "execution_count": null,
   "id": "0dd375e5",
   "metadata": {},
   "outputs": [],
   "source": [
    "# ✅ List folders to confirm structure\n",
    "import os\n",
    "os.listdir()\n"
   ]
  },
  {
   "cell_type": "markdown",
   "id": "da4b17e3",
   "metadata": {},
   "source": [
    "### 📂 Next Steps"
   ]
  },
  {
   "cell_type": "markdown",
   "id": "111d8d07",
   "metadata": {},
   "source": [
    "- Navigate to the `notebooks/` folder in the Colab file explorer and open a notebook.\n",
    "- OR run the following to open one manually:\n"
   ]
  },
  {
   "cell_type": "code",
   "execution_count": null,
   "id": "bd85d015",
   "metadata": {},
   "outputs": [],
   "source": [
    "from IPython.display import FileLink\n",
    "FileLink(\"notebooks/01_eda.ipynb\")\n"
   ]
  }
 ],
 "metadata": {},
 "nbformat": 4,
 "nbformat_minor": 5
}