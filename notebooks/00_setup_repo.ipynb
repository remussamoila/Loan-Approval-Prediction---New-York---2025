{
  "nbformat": 4,
  "nbformat_minor": 0,
  "metadata": {
    "colab": {
      "provenance": [],
      "authorship_tag": "ABX9TyMDy8K93FIVrVfh9ZKL+PBs",
      "include_colab_link": true
    },
    "kernelspec": {
      "name": "python3",
      "display_name": "Python 3"
    },
    "language_info": {
      "name": "python"
    }
  },
  "cells": [
    {
      "cell_type": "markdown",
      "metadata": {
        "id": "view-in-github",
        "colab_type": "text"
      },
      "source": [
        "<a href=\"https://colab.research.google.com/github/remussamoila/Loan-Approval-Prediction---New-York---2025/blob/main/notebooks/00_setup_repo.ipynb\" target=\"_parent\"><img src=\"https://colab.research.google.com/assets/colab-badge.svg\" alt=\"Open In Colab\"/></a>"
      ]
    },
    {
      "cell_type": "code",
      "execution_count": null,
      "metadata": {
        "id": "lFPELfgbDY1T"
      },
      "outputs": [],
      "source": [
        "{\n",
        " \"cells\": [\n",
        "  {\n",
        "   \"cell_type\": \"markdown\",\n",
        "   \"id\": \"48af76f6\",\n",
        "   \"metadata\": {},\n",
        "   \"source\": [\n",
        "    \"# 🚀 Setup Notebook: Clone GitHub Repository\"\n",
        "   ]\n",
        "  },\n",
        "  {\n",
        "   \"cell_type\": \"markdown\",\n",
        "   \"id\": \"c11eec01\",\n",
        "   \"metadata\": {},\n",
        "   \"source\": [\n",
        "    \"This notebook clones your team's Kaggle competition repository and sets the working directory for use in Colab.\"\n",
        "   ]\n",
        "  },\n",
        "  {\n",
        "   \"cell_type\": \"code\",\n",
        "   \"execution_count\": null,\n",
        "   \"id\": \"c33f42ae\",\n",
        "   \"metadata\": {},\n",
        "   \"outputs\": [],\n",
        "   \"source\": [\n",
        "    \"# 👤 Author: Shared team setup\\n\",\n",
        "    \"# 📦 Clone the GitHub repository\\n\",\n",
        "    \"\\n\",\n",
        "    \"!git clone https://github.com/remussamoila/Loan-Approval-Prediction---New-York---2025.git\\n\",\n",
        "    \"%cd Loan-Approval-Prediction---New-York---2025\\n\"\n",
        "   ]\n",
        "  },\n",
        "  {\n",
        "   \"cell_type\": \"code\",\n",
        "   \"execution_count\": null,\n",
        "   \"id\": \"0dd375e5\",\n",
        "   \"metadata\": {},\n",
        "   \"outputs\": [],\n",
        "   \"source\": [\n",
        "    \"# ✅ List folders to confirm structure\\n\",\n",
        "    \"import os\\n\",\n",
        "    \"os.listdir()\\n\"\n",
        "   ]\n",
        "  },\n",
        "  {\n",
        "   \"cell_type\": \"markdown\",\n",
        "   \"id\": \"da4b17e3\",\n",
        "   \"metadata\": {},\n",
        "   \"source\": [\n",
        "    \"### 📂 Next Steps\"\n",
        "   ]\n",
        "  },\n",
        "  {\n",
        "   \"cell_type\": \"markdown\",\n",
        "   \"id\": \"111d8d07\",\n",
        "   \"metadata\": {},\n",
        "   \"source\": [\n",
        "    \"- Navigate to the `notebooks/` folder in the Colab file explorer and open a notebook.\\n\",\n",
        "    \"- OR run the following to open one manually:\\n\"\n",
        "   ]\n",
        "  },\n",
        "  {\n",
        "   \"cell_type\": \"code\",\n",
        "   \"execution_count\": null,\n",
        "   \"id\": \"bd85d015\",\n",
        "   \"metadata\": {},\n",
        "   \"outputs\": [],\n",
        "   \"source\": [\n",
        "    \"from IPython.display import FileLink\\n\",\n",
        "    \"FileLink(\\\"notebooks/01_eda.ipynb\\\")\\n\"\n",
        "   ]\n",
        "  }\n",
        " ],\n",
        " \"metadata\": {},\n",
        " \"nbformat\": 4,\n",
        " \"nbformat_minor\": 5\n",
        "}"
      ]
    }
  ]
}