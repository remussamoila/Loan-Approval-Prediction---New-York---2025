{
 "cells": [
  {
   "cell_type": "markdown",
   "id": "567085d7",
   "metadata": {},
   "source": [
    "# 🔍 Joblib Model Viewer\n",
    "\n",
    "This notebook loads a `.joblib` model and displays basic information, such as hyperparameters and feature importance (if available)."
   ]
  },
  {
   "cell_type": "code",
   "execution_count": null,
   "id": "29af33e8",
   "metadata": {},
   "outputs": [],
   "source": [
    "# ✅ Step 1: Load required libraries\n",
    "import joblib\n",
    "import matplotlib.pyplot as plt\n",
    "import numpy as np"
   ]
  },
  {
   "cell_type": "code",
   "execution_count": null,
   "id": "5b1ef9f2",
   "metadata": {},
   "outputs": [],
   "source": [
    "# ✅ Step 2: Load the model file\n",
    "model = joblib.load('models/best_model.joblib')\n",
    "print('✅ Model loaded:', type(model))"
   ]
  },
  {
   "cell_type": "code",
   "execution_count": null,
   "id": "27300ffe",
   "metadata": {},
   "outputs": [],
   "source": [
    "# ✅ Step 3: View model parameters\n",
    "try:\n",
    "    print(model.get_params())\n",
    "except Exception as e:\n",
    "    print('⚠️ get_params() not available:', e)"
   ]
  },
  {
   "cell_type": "code",
   "execution_count": null,
   "id": "0842ec69",
   "metadata": {},
   "outputs": [],
   "source": [
    "# ✅ Step 4: View feature importances (if available)\n",
    "try:\n",
    "    importances = model.feature_importances_\n",
    "    plt.figure(figsize=(10,4))\n",
    "    plt.bar(range(len(importances)), importances)\n",
    "    plt.title('🔎 Feature Importances')\n",
    "    plt.xlabel('Feature Index')\n",
    "    plt.ylabel('Importance')\n",
    "    plt.show()\n",
    "except AttributeError:\n",
    "    print('⚠️ Model does not provide feature importances.')"
   ]
  }
 ],
 "metadata": {},
 "nbformat": 4,
 "nbformat_minor": 5
}
